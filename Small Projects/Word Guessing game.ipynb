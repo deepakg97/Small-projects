{
 "cells": [
  {
   "cell_type": "code",
   "execution_count": 1,
   "id": "73e426d8",
   "metadata": {},
   "outputs": [],
   "source": [
    "import random"
   ]
  },
  {
   "cell_type": "code",
   "execution_count": 2,
   "id": "5e08c07f",
   "metadata": {},
   "outputs": [
    {
     "name": "stdout",
     "output_type": "stream",
     "text": [
      "what is your name? dee\n",
      "Goodluck dee\n"
     ]
    }
   ],
   "source": [
    "# user asked the name\n",
    "name = input(\"what is your name? \")\n",
    "print (\"Goodluck\", name)"
   ]
  },
  {
   "cell_type": "code",
   "execution_count": 3,
   "id": "a4ae1ba7",
   "metadata": {},
   "outputs": [],
   "source": [
    "words = ['rainbow', 'computer', 'science', 'programming',\n",
    "         'python', 'mathematics', 'player', 'condition',\n",
    "         'reverse', 'water', 'board', 'geeks']\n"
   ]
  },
  {
   "cell_type": "code",
   "execution_count": null,
   "id": "9e0f9953",
   "metadata": {},
   "outputs": [
    {
     "name": "stdout",
     "output_type": "stream",
     "text": [
      "Guess the characters of the random word\n",
      "_\n",
      "_\n",
      "_\n",
      "_\n",
      "_\n",
      "_\n",
      "_\n",
      "\n"
     ]
    }
   ],
   "source": [
    "# Function will choose random word\n",
    "randomword = random.choice(words)\n",
    "print(\"Guess the characters of the random word\")\n",
    "\n",
    "# 12 number of turns only\n",
    "guesses = ''\n",
    "turns = 12\n",
    "\n",
    "while turns > 0 :\n",
    "    failed = 0\n",
    "    for char in randomword:\n",
    "        if char in guesses:\n",
    "            print(char)\n",
    "        else:\n",
    "            print(\"_\")\n",
    "            failed += 1\n",
    "    if failed == 0 :\n",
    "        print (\"You win\")\n",
    "        print ('The word is: ',randomword)\n",
    "        break\n",
    "            \n",
    "    #  User input wrong letter\n",
    "    print ()\n",
    "    guess = input(\"Guess a chracter: \")\n",
    "    guesses += guess\n",
    "    \n",
    "    #  guess not in randomword\n",
    "    if guess not in randomword:\n",
    "        turns -= 1\n",
    "        print (\"WRONG\")\n",
    "        print (\"you have\", + turns, \"turns left\")\n",
    "        \n",
    "        if turns == 0:\n",
    "            print(\"YOU LOSE\")"
   ]
  },
  {
   "cell_type": "code",
   "execution_count": 5,
   "id": "80477a6c",
   "metadata": {},
   "outputs": [
    {
     "data": {
      "text/plain": [
       "0"
      ]
     },
     "execution_count": 5,
     "metadata": {},
     "output_type": "execute_result"
    }
   ],
   "source": [
    "failed\n"
   ]
  },
  {
   "cell_type": "code",
   "execution_count": 6,
   "id": "c7f6a59d",
   "metadata": {},
   "outputs": [
    {
     "data": {
      "text/plain": [
       "12"
      ]
     },
     "execution_count": 6,
     "metadata": {},
     "output_type": "execute_result"
    }
   ],
   "source": [
    "turns"
   ]
  },
  {
   "cell_type": "code",
   "execution_count": 7,
   "id": "77ca91d7",
   "metadata": {},
   "outputs": [
    {
     "data": {
      "text/plain": [
       "''"
      ]
     },
     "execution_count": 7,
     "metadata": {},
     "output_type": "execute_result"
    }
   ],
   "source": [
    "guesses"
   ]
  },
  {
   "cell_type": "code",
   "execution_count": null,
   "id": "45461a3f",
   "metadata": {},
   "outputs": [],
   "source": []
  }
 ],
 "metadata": {
  "kernelspec": {
   "display_name": "Python 3 (ipykernel)",
   "language": "python",
   "name": "python3"
  },
  "language_info": {
   "codemirror_mode": {
    "name": "ipython",
    "version": 3
   },
   "file_extension": ".py",
   "mimetype": "text/x-python",
   "name": "python",
   "nbconvert_exporter": "python",
   "pygments_lexer": "ipython3",
   "version": "3.9.7"
  }
 },
 "nbformat": 4,
 "nbformat_minor": 5
}
