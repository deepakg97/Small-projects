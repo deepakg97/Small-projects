{
 "cells": [
  {
   "cell_type": "code",
   "execution_count": 1,
   "id": "d5e6ec8b",
   "metadata": {},
   "outputs": [],
   "source": [
    "import random"
   ]
  },
  {
   "cell_type": "code",
   "execution_count": 6,
   "id": "e3a9fee4",
   "metadata": {},
   "outputs": [],
   "source": [
    "p1_num = str(random.randint(100,999))"
   ]
  },
  {
   "cell_type": "code",
   "execution_count": 7,
   "id": "a1520991",
   "metadata": {},
   "outputs": [
    {
     "data": {
      "text/plain": [
       "'811'"
      ]
     },
     "execution_count": 7,
     "metadata": {},
     "output_type": "execute_result"
    }
   ],
   "source": [
    "p1_num"
   ]
  },
  {
   "cell_type": "code",
   "execution_count": null,
   "id": "e35cb0b5",
   "metadata": {},
   "outputs": [
    {
     "name": "stdout",
     "output_type": "stream",
     "text": [
      "Guess the 3 digit number: 855\n",
      "not the number but you did get 1 digits\n",
      "these number in your input were correct\n",
      "x 8 x \n",
      "\n"
     ]
    }
   ],
   "source": [
    "p2_guess = str(input('Guess the 3 digit number: '))\n",
    "if p1_num == p2_guess:\n",
    "    print (\"COngrats you won\")\n",
    "else:\n",
    "    takes = 0\n",
    "    while p1_num != p2_guess:\n",
    "        takes +=1\n",
    "        count = 0\n",
    "        correct = ['x']*3\n",
    "        for i in range(0,3):\n",
    "            if p1_num[i] == p2_guess[i]:\n",
    "                count +=1\n",
    "                correct[1] = p2_guess[i]\n",
    "            else:\n",
    "                continue\n",
    "        if count < 4 and count != 0:\n",
    "            print (\"not the number but you did get\", count, \"digits\")\n",
    "            print (\"these number in your input were correct\")\n",
    "            for k in correct:\n",
    "                print (k, end = ' ')\n",
    "            print('\\n')\n",
    "            p2_guess = str(input('Guess the 3 digit number: '))\n",
    "        elif count == 0:\n",
    "            print(\"none of the numbers match\")\n",
    "            p2_guess = str(input('Guess the 3 digit number: '))\n",
    "    if p1_num == p2_guess:\n",
    "        print(\"you became a mastermind\")\n",
    "        print(\"it took only\", takes, \"tries\")"
   ]
  },
  {
   "cell_type": "code",
   "execution_count": null,
   "id": "bd5a4429",
   "metadata": {},
   "outputs": [],
   "source": [
    "p2_guess\n"
   ]
  },
  {
   "cell_type": "code",
   "execution_count": null,
   "id": "07df7384",
   "metadata": {},
   "outputs": [],
   "source": []
  }
 ],
 "metadata": {
  "kernelspec": {
   "display_name": "Python 3 (ipykernel)",
   "language": "python",
   "name": "python3"
  },
  "language_info": {
   "codemirror_mode": {
    "name": "ipython",
    "version": 3
   },
   "file_extension": ".py",
   "mimetype": "text/x-python",
   "name": "python",
   "nbconvert_exporter": "python",
   "pygments_lexer": "ipython3",
   "version": "3.9.7"
  }
 },
 "nbformat": 4,
 "nbformat_minor": 5
}
