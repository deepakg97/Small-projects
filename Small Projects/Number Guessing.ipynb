{
 "cells": [
  {
   "cell_type": "code",
   "execution_count": 10,
   "id": "437979d9",
   "metadata": {},
   "outputs": [],
   "source": [
    "import random\n",
    "import math"
   ]
  },
  {
   "cell_type": "code",
   "execution_count": 12,
   "id": "dbb2319c",
   "metadata": {},
   "outputs": [
    {
     "name": "stdout",
     "output_type": "stream",
     "text": [
      "Enter lower bound: 1\n",
      "Enter upper bound: 100\n",
      "\n",
      "\t you've got only 7  Chances to guess the integer! \n",
      "\n",
      "Guess a number: 5\n",
      "Guess too low\n",
      "Guess a number: 6\n",
      "Guess too low\n",
      "Guess a number: 540\n",
      "Guess too high\n",
      "Guess a number: 8\n",
      "Guess too low\n",
      "Guess a number: 5\n",
      "Guess too low\n",
      "Guess a number: 33\n",
      "Guess too high\n",
      "Guess a number: 55\n",
      "Guess too high\n",
      "\n",
      "\t the number is  24\n",
      "Better luck next time\n"
     ]
    }
   ],
   "source": [
    "# taking inputs\n",
    "lower = int(input(\"Enter lower bound: \"))\n",
    "upper = int(input(\"Enter upper bound: \"))\n",
    "\n",
    "#Computer generates a random nunmber\n",
    "random_num = random.randint(lower,upper)\n",
    "print (\"\\n\\t you've got only\",\n",
    "      round(math.log(upper-lower+1, 2)),\n",
    "      \" Chances to guess the integer! \\n\")\n",
    "\n",
    "#Initializing the guess\n",
    "count = 0\n",
    "\n",
    "while count < math.log(upper-lower+1, 2):\n",
    "    count+=1\n",
    "    \n",
    "    #user taking guess\n",
    "    guess = int(input(\"Guess a number: \"))\n",
    "    \n",
    "    #match guess with computer guess\n",
    "    if guess == random_num :\n",
    "        print(\"Congrats, you did it in \", count, \"try\")\n",
    "        \n",
    "        #once correctly guessed, loop breaks\n",
    "        break\n",
    "    elif guess > random_num:\n",
    "        print (\"Guess too high\")\n",
    "    elif guess < random_num:\n",
    "        print (\"Guess too low\")\n",
    "        \n",
    "# if count more than chances user have\n",
    "if count >= math.log(upper-lower+1, 2):\n",
    "    print (\"\\n\\t the number is \", random_num)\n",
    "    print (\"Better luck next time\")\n",
    "        "
   ]
  },
  {
   "cell_type": "code",
   "execution_count": null,
   "id": "267503ca",
   "metadata": {},
   "outputs": [],
   "source": []
  }
 ],
 "metadata": {
  "kernelspec": {
   "display_name": "Python 3 (ipykernel)",
   "language": "python",
   "name": "python3"
  },
  "language_info": {
   "codemirror_mode": {
    "name": "ipython",
    "version": 3
   },
   "file_extension": ".py",
   "mimetype": "text/x-python",
   "name": "python",
   "nbconvert_exporter": "python",
   "pygments_lexer": "ipython3",
   "version": "3.9.7"
  }
 },
 "nbformat": 4,
 "nbformat_minor": 5
}
