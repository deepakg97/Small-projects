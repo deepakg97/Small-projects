{
 "cells": [
  {
   "cell_type": "code",
   "execution_count": 2,
   "id": "59523bb1",
   "metadata": {},
   "outputs": [
    {
     "name": "stdout",
     "output_type": "stream",
     "text": [
      "Press 1 to play or 0 to exit: \n",
      "1\n",
      "3\n",
      "Press 1 to play or 0 to exit: \n",
      "0\n"
     ]
    }
   ],
   "source": [
    "# ROLL DICE SIMULATOR\n",
    "import random\n",
    "while int(input('Press 1 to play or 0 to exit: \\n')):\n",
    "    \n",
    "    print(random.randint(1,6))"
   ]
  },
  {
   "cell_type": "code",
   "execution_count": 11,
   "id": "0dcaa8ee",
   "metadata": {},
   "outputs": [
    {
     "name": "stdout",
     "output_type": "stream",
     "text": [
      "Rock paper or scissor: E\n",
      "Final Scores:\n",
      "Computer =  0\n",
      "Player = 0\n"
     ]
    }
   ],
   "source": [
    "# ROCK PAPER SCISSOR\n",
    "import random\n",
    "choices = ['Rock', 'Paper', 'Scissor']\n",
    "\n",
    "player = False\n",
    "comp_score = 0\n",
    "player_score = 0\n",
    "while True:\n",
    "    computer = random.choice(choices)\n",
    "    player = input('Rock paper or scissor: ').capitalize()\n",
    "    if player == computer:\n",
    "        print ('Tie')\n",
    "    elif player == 'Rock' and computer == 'Paper':\n",
    "        print('Comp wins')\n",
    "        comp_score +=1\n",
    "    elif player == 'Rock' and computer == 'Scissor':\n",
    "        print('player wins')\n",
    "        player_score +=1\n",
    "    elif player == 'Paper' and computer == 'Rock':\n",
    "        print('player wins')\n",
    "        player_score +=1\n",
    "    elif player == 'Paper' and computer == 'Scissor':\n",
    "        print('Comp wins')\n",
    "        comp_score +=1\n",
    "    elif player == 'Scissor' and computer == 'Rock':\n",
    "        print('Comp wins')\n",
    "        comp_score +=1\n",
    "    elif player == 'Scissor' and computer == 'Paper':\n",
    "        print('Player wins')\n",
    "        player_score +=1\n",
    "    elif player == \"E\":\n",
    "        print('Final Scores:')\n",
    "        print('Computer = ', comp_score)\n",
    "        print (\"Player =\", player_score)\n",
    "        break"
   ]
  },
  {
   "cell_type": "code",
   "execution_count": 10,
   "id": "c7f7f30f",
   "metadata": {},
   "outputs": [
    {
     "name": "stdout",
     "output_type": "stream",
     "text": [
      "length of password: 5\n",
      "EWhYq\n"
     ]
    }
   ],
   "source": [
    "# PASSWORD GENERATOR\n",
    "import random\n",
    "letters = 'qwertyuiopasdfghjklzxcvbnm1234567890ZXCVBNMASDFGHJKLQWERTYUIOP[]\\;,./'\n",
    "passlen = int(input('length of password: '))\n",
    "password = \"\".join(random.sample(letters,passlen))\n",
    "print(password)"
   ]
  },
  {
   "cell_type": "code",
   "execution_count": 30,
   "id": "a77197e1",
   "metadata": {},
   "outputs": [
    {
     "name": "stdout",
     "output_type": "stream",
     "text": [
      "guess the number: 5\n",
      "WRONG! guess again\n",
      "guess the number: 9\n",
      "correct! the number was 9\n"
     ]
    }
   ],
   "source": [
    "# GUESS THE NUMBER NAME\n",
    "import random\n",
    "random_num = random.randint(1,10)\n",
    "chances = 3\n",
    "\n",
    "while chances> 0:\n",
    "    user_guess = int(input('guess the number: '))\n",
    "    if chances > 0 and user_guess == random_num:\n",
    "        print ('correct! the number was', random_num)\n",
    "        break\n",
    "    elif user_guess != random_num:\n",
    "        chances -=1\n",
    "        print ('WRONG! guess again')\n",
    "else:\n",
    "    print('Game over! the number was', random_num)"
   ]
  },
  {
   "cell_type": "code",
   "execution_count": null,
   "id": "8c6a6d86",
   "metadata": {},
   "outputs": [],
   "source": []
  }
 ],
 "metadata": {
  "kernelspec": {
   "display_name": "Python 3 (ipykernel)",
   "language": "python",
   "name": "python3"
  },
  "language_info": {
   "codemirror_mode": {
    "name": "ipython",
    "version": 3
   },
   "file_extension": ".py",
   "mimetype": "text/x-python",
   "name": "python",
   "nbconvert_exporter": "python",
   "pygments_lexer": "ipython3",
   "version": "3.9.7"
  }
 },
 "nbformat": 4,
 "nbformat_minor": 5
}
