{
 "cells": [
  {
   "cell_type": "code",
   "execution_count": 1,
   "id": "9cc6ccbc",
   "metadata": {},
   "outputs": [],
   "source": [
    "p1 = 'deepak'\n",
    "p2 = 'jhansi'"
   ]
  },
  {
   "cell_type": "code",
   "execution_count": 2,
   "id": "ea578369",
   "metadata": {},
   "outputs": [],
   "source": [
    "final_name = set()"
   ]
  },
  {
   "cell_type": "code",
   "execution_count": 3,
   "id": "5e37757e",
   "metadata": {},
   "outputs": [],
   "source": [
    "for letter in p1:\n",
    "    final_name.add(letter)\n",
    "    "
   ]
  },
  {
   "cell_type": "code",
   "execution_count": 4,
   "id": "27cbfc9f",
   "metadata": {},
   "outputs": [],
   "source": [
    "for letter in p2:\n",
    "    final_name.add(letter)"
   ]
  },
  {
   "cell_type": "code",
   "execution_count": 5,
   "id": "1d6eb49d",
   "metadata": {},
   "outputs": [
    {
     "data": {
      "text/plain": [
       "{'a', 'd', 'e', 'h', 'i', 'j', 'k', 'n', 'p', 's'}"
      ]
     },
     "execution_count": 5,
     "metadata": {},
     "output_type": "execute_result"
    }
   ],
   "source": [
    "final_name"
   ]
  },
  {
   "cell_type": "code",
   "execution_count": 6,
   "id": "717607e1",
   "metadata": {},
   "outputs": [],
   "source": [
    "number = len(final_name) % 6"
   ]
  },
  {
   "cell_type": "code",
   "execution_count": 7,
   "id": "1643d405",
   "metadata": {},
   "outputs": [],
   "source": [
    "flames ={'F': 'Friends', 'L':'Love', 'A':'Affection', 'M': 'Marriage', 'E': 'Enemies','S':'Siblings'}"
   ]
  },
  {
   "cell_type": "code",
   "execution_count": 8,
   "id": "d3312338",
   "metadata": {},
   "outputs": [
    {
     "name": "stdout",
     "output_type": "stream",
     "text": [
      "Marriage\n"
     ]
    }
   ],
   "source": [
    "if number == 1:\n",
    "    print (flames['F'])\n",
    "elif number == 2:\n",
    "    print (flames['L'])\n",
    "elif number == 3:\n",
    "    print (flames['A'])\n",
    "elif number == 4:\n",
    "    print (flames['M'])\n",
    "elif number == 5:\n",
    "    print (flames['E'])\n",
    "elif number == 6:\n",
    "    print (flames['S'])\n",
    "else:\n",
    "    pass"
   ]
  },
  {
   "cell_type": "code",
   "execution_count": 9,
   "id": "d89fb678",
   "metadata": {},
   "outputs": [
    {
     "name": "stdout",
     "output_type": "stream",
     "text": [
      "Type the guy's name: deepak\n",
      "Type the girl's name: jhansi\n",
      "FLAMES....\n",
      "F = Friend \n",
      "L = Love \n",
      "A = Affection \n",
      "M = Marriage \n",
      "E = Enemy \n",
      "S = Siblings \n",
      "\n",
      "\n",
      "Marriage\n"
     ]
    }
   ],
   "source": [
    "flames ={'F': 'Friends', 'L':'Love', 'A':'Affection', 'M': 'Marriage', 'E': 'Enemies','S':'Siblings'}\n",
    "def flames_func():\n",
    "    p1 = input(\"Type the guy's name: \")\n",
    "    p2 = input(\"Type the girl's name: \")\n",
    "    final_name = set()\n",
    "    for letter in p1:\n",
    "        final_name.add(letter)\n",
    "    for letter in p2:\n",
    "        final_name.add(letter)\n",
    "    number = len(final_name) % 6\n",
    "    print(\"FLAMES....\")\n",
    "    print(\"F = Friend \\nL = Love \\nA = Affection \\nM = Marriage \\nE = Enemy \\nS = Siblings \\n\\n\")\n",
    "    if number == 1:\n",
    "        print (flames['F'])\n",
    "    elif number == 2:\n",
    "        print (flames['L'])\n",
    "    elif number == 3:\n",
    "        print (flames['A'])\n",
    "    elif number == 4:\n",
    "        print (flames['M'])\n",
    "    elif number == 5:\n",
    "        print (flames['E'])\n",
    "    elif number == 6:\n",
    "        print (flames['S'])\n",
    "    else:\n",
    "        pass\n",
    "flames_func()"
   ]
  },
  {
   "cell_type": "code",
   "execution_count": null,
   "id": "2fc3849a",
   "metadata": {},
   "outputs": [],
   "source": []
  }
 ],
 "metadata": {
  "kernelspec": {
   "display_name": "Python 3 (ipykernel)",
   "language": "python",
   "name": "python3"
  },
  "language_info": {
   "codemirror_mode": {
    "name": "ipython",
    "version": 3
   },
   "file_extension": ".py",
   "mimetype": "text/x-python",
   "name": "python",
   "nbconvert_exporter": "python",
   "pygments_lexer": "ipython3",
   "version": "3.9.7"
  }
 },
 "nbformat": 4,
 "nbformat_minor": 5
}
