{
 "cells": [
  {
   "cell_type": "code",
   "execution_count": 1,
   "id": "7415833b",
   "metadata": {},
   "outputs": [],
   "source": [
    "import random\n",
    "from collections import Counter"
   ]
  },
  {
   "cell_type": "code",
   "execution_count": 29,
   "id": "18a147e6",
   "metadata": {},
   "outputs": [],
   "source": [
    "somewords = '''apple banana mango strawberry orange grape pineapple apricot lemon coconut watermelon cherry papaya berry peach lychee muskmelon'''\n",
    "\n",
    "somewords = somewords.split(' ')"
   ]
  },
  {
   "cell_type": "code",
   "execution_count": 30,
   "id": "9a0ae982",
   "metadata": {},
   "outputs": [
    {
     "data": {
      "text/plain": [
       "['apple',\n",
       " 'banana',\n",
       " 'mango',\n",
       " 'strawberry',\n",
       " 'orange',\n",
       " 'grape',\n",
       " 'pineapple',\n",
       " 'apricot',\n",
       " 'lemon',\n",
       " 'coconut',\n",
       " 'watermelon',\n",
       " 'cherry',\n",
       " 'papaya',\n",
       " 'berry',\n",
       " 'peach',\n",
       " 'lychee',\n",
       " 'muskmelon']"
      ]
     },
     "execution_count": 30,
     "metadata": {},
     "output_type": "execute_result"
    }
   ],
   "source": [
    "somewords"
   ]
  },
  {
   "cell_type": "code",
   "execution_count": 31,
   "id": "51d71c5b",
   "metadata": {},
   "outputs": [
    {
     "name": "stdout",
     "output_type": "stream",
     "text": [
      "Guess the word\n",
      "_ _ _ _ _ "
     ]
    }
   ],
   "source": [
    "word = random.choice(somewords)\n",
    "print ('Guess the word')\n",
    "# print _ instead of letter\n",
    "for i in word:\n",
    "    print ('_',end = ' ')"
   ]
  },
  {
   "cell_type": "code",
   "execution_count": 38,
   "id": "bd8574f1",
   "metadata": {},
   "outputs": [],
   "source": [
    "# when player playing\n",
    "playing = True\n",
    "# list for storing letter guessed by player\n",
    "letterguessed = ''\n",
    "chances = len(word)+2\n",
    "correct = 0\n",
    "flag = 0\n"
   ]
  },
  {
   "cell_type": "code",
   "execution_count": 53,
   "id": "8a814d9e",
   "metadata": {},
   "outputs": [
    {
     "name": "stdout",
     "output_type": "stream",
     "text": [
      "Enter a letter: d\n",
      "Enter a letter: s\n",
      "Enter a letter: s\n",
      "Enter a letter: s\n",
      "Enter a letter: s\n",
      "Enter a letter: s\n",
      "Enter a letter: s\n",
      "You lost\n",
      "The word was peach\n"
     ]
    }
   ],
   "source": [
    "# game starts\n",
    "try:\n",
    "    while (chances != 0) and flag == 0:\n",
    "        chances -=1\n",
    "        try:\n",
    "            guess = str(input(\"Enter a letter: \"))\n",
    "        except:\n",
    "            print('Ener only a letter')\n",
    "            continue\n",
    "        \n",
    "#         Validation of the guess\n",
    "        if not guess.isalpha():\n",
    "            print('Enter only a letter')\n",
    "            continue\n",
    "        elif len(guess)> 1:\n",
    "            print('enter only single letter')\n",
    "        elif guess in letterguessed:\n",
    "            print('you have already guessed that letter')\n",
    "            \n",
    "#             if letter guessed correctly\n",
    "        if guess in word:\n",
    "            letterguessed += guess\n",
    "            for char in word:\n",
    "                if letterguessed in word and Counter(letterguessed) != Counter(word):\n",
    "                    print (char, end = ' ')\n",
    "                    correct +=1\n",
    "                elif Counter(letterguessed) == Counter(word):\n",
    "                    print('The word is ',word)\n",
    "                    flag = 1\n",
    "                    print ('You won')\n",
    "                    break\n",
    "                    break\n",
    "                else:\n",
    "                    print('_', end = ' ')\n",
    "    \n",
    "#     when used all chances\n",
    "    if chances <= 0 and Counter(letterguessed) != Counter(word):\n",
    "        print('You lost')\n",
    "        print('The word was', word)\n",
    "except KeyboardInterrupt:\n",
    "    print('BYE')\n",
    "    exit()\n",
    "               \n",
    "\n",
    "\n",
    "\n"
   ]
  },
  {
   "cell_type": "code",
   "execution_count": 4,
   "id": "f1af0deb",
   "metadata": {},
   "outputs": [
    {
     "name": "stdout",
     "output_type": "stream",
     "text": [
      "Guess the word\n",
      "_ _ _ _ _ \n",
      "Enter a letter: a\n",
      "_ _ a _ _ \n",
      "Enter a letter: g\n",
      "g _ a _ _ \n",
      "Enter a letter: r\n",
      "g r a _ _ \n",
      "Enter a letter: p\n",
      "g r a p _ \n",
      "Enter a letter: b\n",
      "g r a p _ \n",
      "Enter a letter: b\n",
      "g r a p _ \n",
      "Enter a letter: e\n",
      "The word is  grape\n",
      "You won\n"
     ]
    }
   ],
   "source": [
    "import random\n",
    "from collections import Counter\n",
    "\n",
    "# Set up game\n",
    "somewords = '''apple banana mango strawberry orange grape pineapple apricot lemon coconut watermelon cherry papaya berry peach lychee muskmelon'''\n",
    "somewords = somewords.split(' ')\n",
    "\n",
    "# Computer chooses word randomly\n",
    "word = random.choice(somewords)\n",
    "print ('Guess the word')\n",
    "# print _ instead of letter\n",
    "for i in word:\n",
    "    print ('_',end = ' ')\n",
    "    \n",
    "# when player playing\n",
    "playing = True\n",
    "# list for storing letter guessed by player\n",
    "letterguessed = ''\n",
    "chances = len(word)+2\n",
    "correct = 0\n",
    "flag = 0\n",
    "\n",
    "# game starts\n",
    "try:\n",
    "    while (chances != 0) and flag == 0:\n",
    "        chances -=1\n",
    "        try:\n",
    "            print()\n",
    "            guess = str(input(\"Enter a letter: \"))\n",
    "        except:\n",
    "            print('Ener only a letter')\n",
    "            continue\n",
    "        \n",
    "#         Validation of the guess\n",
    "        if not guess.isalpha():\n",
    "            print('Enter only a letter')\n",
    "            continue\n",
    "        elif len(guess)> 1:\n",
    "            print('enter only single letter')\n",
    "            continue\n",
    "        elif guess in letterguessed:\n",
    "            print('you have already guessed that letter')\n",
    "            continue\n",
    "            \n",
    "#             if letter guessed correctly\n",
    "        if guess in word:\n",
    "            k = word.count(guess)\n",
    "            for _ in range(k):\n",
    "                letterguessed += guess\n",
    "        for char in word:\n",
    "            if char in letterguessed and Counter(letterguessed) != Counter(word):\n",
    "                print (char, end = ' ')\n",
    "                correct +=1\n",
    "            elif Counter(letterguessed) == Counter(word):\n",
    "                print('The word is ',word)\n",
    "                flag = 1\n",
    "                print ('You won')\n",
    "                break\n",
    "                break\n",
    "            else:\n",
    "                print('_', end = ' ')\n",
    "    \n",
    "#     when used all chances\n",
    "    if chances <= 0 and Counter(letterguessed) != Counter(word):\n",
    "        print('You lost')\n",
    "        print('The word was', word)\n",
    "except KeyboardInterrupt:\n",
    "    print('BYE')\n",
    "    exit()"
   ]
  },
  {
   "cell_type": "code",
   "execution_count": null,
   "id": "841f9589",
   "metadata": {},
   "outputs": [],
   "source": []
  },
  {
   "cell_type": "code",
   "execution_count": null,
   "id": "b01951a2",
   "metadata": {},
   "outputs": [],
   "source": [
    "\n"
   ]
  },
  {
   "cell_type": "code",
   "execution_count": null,
   "id": "4ef717ae",
   "metadata": {},
   "outputs": [],
   "source": []
  },
  {
   "cell_type": "raw",
   "id": "832a6c86",
   "metadata": {},
   "source": []
  }
 ],
 "metadata": {
  "kernelspec": {
   "display_name": "Python 3 (ipykernel)",
   "language": "python",
   "name": "python3"
  },
  "language_info": {
   "codemirror_mode": {
    "name": "ipython",
    "version": 3
   },
   "file_extension": ".py",
   "mimetype": "text/x-python",
   "name": "python",
   "nbconvert_exporter": "python",
   "pygments_lexer": "ipython3",
   "version": "3.9.7"
  }
 },
 "nbformat": 4,
 "nbformat_minor": 5
}
